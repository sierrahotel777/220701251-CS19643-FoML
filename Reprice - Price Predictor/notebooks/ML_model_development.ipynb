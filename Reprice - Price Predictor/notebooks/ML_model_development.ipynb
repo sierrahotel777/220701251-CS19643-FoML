{
 "cells": [
  {
   "cell_type": "code",
   "execution_count": 1,
   "id": "96dcb12d",
   "metadata": {},
   "outputs": [
    {
     "name": "stderr",
     "output_type": "stream",
     "text": [
      "<>:84: SyntaxWarning: invalid escape sequence '\\m'\n",
      "<>:84: SyntaxWarning: invalid escape sequence '\\m'\n",
      "C:\\Users\\Sanjeevan Hari\\AppData\\Local\\Temp\\ipykernel_2056\\227577942.py:84: SyntaxWarning: invalid escape sequence '\\m'\n",
      "  joblib.dump(best_model, '../backend\\model.pkl')\n"
     ]
    },
    {
     "name": "stdout",
     "output_type": "stream",
     "text": [
      "Index(['product_id', 'product_type', 'product_name', 'product_description',\n",
      "       'product_keywords', 'product_gender_target', 'product_category',\n",
      "       'product_season', 'product_condition', 'product_like_count', 'sold',\n",
      "       'reserved', 'available', 'in_stock', 'should_be_gone', 'brand_id',\n",
      "       'brand_name', 'brand_url', 'product_material', 'product_color',\n",
      "       'price_usd', 'seller_price', 'seller_earning', 'seller_badge',\n",
      "       'has_cross_border_fees', 'buyers_fees', 'warehouse_name', 'seller_id',\n",
      "       'seller_username', 'usually_ships_within', 'seller_country',\n",
      "       'seller_products_sold', 'seller_num_products_listed',\n",
      "       'seller_community_rank', 'seller_num_followers', 'seller_pass_rate'],\n",
      "      dtype='object')\n",
      "Model training completed.\n",
      "Best hyperparameters: {'regressor__alpha': 10.0}\n",
      "Training Score: 0.9966900280105463\n",
      "Test Score: 0.9965713209022286\n",
      "Mean Squared Error: 74143469.4976534\n",
      "R-squared: 0.9965713209022286\n"
     ]
    },
    {
     "data": {
      "text/plain": [
       "['../backend\\\\model.pkl']"
      ]
     },
     "execution_count": 1,
     "metadata": {},
     "output_type": "execute_result"
    }
   ],
   "source": [
    "import pandas as pd\n",
    "import numpy as np\n",
    "from sklearn.model_selection import train_test_split, GridSearchCV\n",
    "from sklearn.linear_model import Ridge\n",
    "from sklearn.preprocessing import OneHotEncoder, StandardScaler\n",
    "from sklearn.pipeline import Pipeline\n",
    "from sklearn.compose import ColumnTransformer\n",
    "from sklearn.metrics import mean_squared_error, r2_score\n",
    "import joblib\n",
    "\n",
    "usd_to_inr_rate = 83.05\n",
    "\n",
    "\n",
    "data = pd.read_csv('../data/resale_luxury_data.csv')\n",
    "\n",
    "print(data.columns)\n",
    "data = data[['brand_name', 'product_name', 'product_condition', 'price_usd', 'seller_price']]\n",
    "\n",
    "data.dropna(inplace=True)\n",
    "\n",
    "data['price_inr'] = data['price_usd'] * usd_to_inr_rate\n",
    "data['seller_price'] = data['seller_price'] * usd_to_inr_rate\n",
    "\n",
    "MIN_FREQUENCY = 10\n",
    "\n",
    "categorical_features = ['brand_name', 'product_name', 'product_condition']\n",
    "\n",
    "def filter_rare_categories(data, categorical_columns, min_frequency):\n",
    "    for col in categorical_columns:\n",
    "        value_counts = data[col].value_counts()\n",
    "        frequent_categories = value_counts[value_counts >= min_frequency].index\n",
    "        data.loc[~data[col].isin(frequent_categories), col] = 'Other'\n",
    "    return data\n",
    "\n",
    "data = filter_rare_categories(data, categorical_features, MIN_FREQUENCY)\n",
    "\n",
    "X = data[['brand_name', 'product_name', 'product_condition', 'price_inr']]\n",
    "y = data['seller_price']\n",
    "\n",
    "categorical_transformer = OneHotEncoder(\n",
    "    handle_unknown='ignore', \n",
    "    sparse_output=True,\n",
    "    min_frequency=MIN_FREQUENCY\n",
    ")\n",
    "\n",
    "numeric_features = ['price_inr']\n",
    "numeric_transformer = StandardScaler()\n",
    "\n",
    "preprocessor = ColumnTransformer(\n",
    "    transformers=[\n",
    "        ('cat', categorical_transformer, categorical_features),\n",
    "        ('num', numeric_transformer, numeric_features)\n",
    "    ])\n",
    "\n",
    "pipeline = Pipeline(steps=[\n",
    "    ('preprocessor', preprocessor),\n",
    "    ('regressor', Ridge(solver='sparse_cg')) \n",
    "])\n",
    "\n",
    "\n",
    "param_grid = {\n",
    "    'regressor__alpha': [0.1, 1.0, 10.0],\n",
    "}\n",
    "\n",
    "grid_search = GridSearchCV(pipeline, param_grid, cv=5, scoring='neg_mean_squared_error')\n",
    "grid_search.fit(X, y)\n",
    "\n",
    "best_model = grid_search.best_estimator_\n",
    "\n",
    "X_train, X_test, y_train, y_test = train_test_split(X, y, test_size=0.2, random_state=42)\n",
    "best_model.fit(X_train, y_train)\n",
    "\n",
    "y_pred = best_model.predict(X_test)\n",
    "mse = mean_squared_error(y_test, y_pred)\n",
    "r2 = r2_score(y_test, y_pred)\n",
    "\n",
    "print(\"Model training completed.\")\n",
    "print(\"Best hyperparameters:\", grid_search.best_params_)\n",
    "print(\"Training Score:\", best_model.score(X_train, y_train))\n",
    "print(\"Test Score:\", best_model.score(X_test, y_test))\n",
    "print(\"Mean Squared Error:\", mse)\n",
    "print(\"R-squared:\", r2)\n",
    "\n",
    "joblib.dump(best_model, '../backend\\model.pkl')"
   ]
  }
 ],
 "metadata": {
  "kernelspec": {
   "display_name": "Python 3",
   "language": "python",
   "name": "python3"
  },
  "language_info": {
   "codemirror_mode": {
    "name": "ipython",
    "version": 3
   },
   "file_extension": ".py",
   "mimetype": "text/x-python",
   "name": "python",
   "nbconvert_exporter": "python",
   "pygments_lexer": "ipython3",
   "version": "3.13.3"
  }
 },
 "nbformat": 4,
 "nbformat_minor": 5
}
